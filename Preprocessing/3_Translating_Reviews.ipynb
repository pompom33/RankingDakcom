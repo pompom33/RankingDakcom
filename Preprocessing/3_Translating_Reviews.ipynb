{
 "cells": [
  {
   "cell_type": "markdown",
   "id": "2f95537e-64b9-47e0-85b1-a9391f497646",
   "metadata": {},
   "source": [
    "# 번역 함수"
   ]
  },
  {
   "cell_type": "code",
   "execution_count": 1,
   "id": "0b0d6594-8fbb-4b3c-b3c7-894f60e246f9",
   "metadata": {},
   "outputs": [],
   "source": [
    "# 구글키.json 경로 설정하기\n",
    "import json \n",
    "\n",
    "with open(\"./data/GoogleKey.json\") as fr:\n",
    "    google_secret = json.loads(fr.read())"
   ]
  },
  {
   "cell_type": "code",
   "execution_count": 2,
   "id": "668ba474-6c68-4974-9505-a5f6ede844fb",
   "metadata": {},
   "outputs": [],
   "source": [
    "# Google Translation API 사용\n",
    "from google.oauth2.service_account import Credentials\n",
    "from google.cloud import translate\n",
    "\n",
    "credentials = Credentials.from_service_account_info(google_secret)\n",
    "google_translate_client = translate.TranslationServiceClient(credentials=credentials)"
   ]
  },
  {
   "cell_type": "code",
   "execution_count": 3,
   "id": "94b062aa-f0da-4667-bcdd-e92e55f54086",
   "metadata": {},
   "outputs": [],
   "source": [
    "# Google 번역 결과 가져오는 함수\n",
    "def get_translation(query):\n",
    "    parent = f\"projects/{google_secret['project_id']}/locations/global\"\n",
    "    response = google_translate_client.translate_text(\n",
    "        request={\n",
    "            \"parent\": parent,\n",
    "            \"contents\": [query],\n",
    "            \"mime_type\": \"text/plain\",\n",
    "            \"source_language_code\": \"ko\",\n",
    "            \"target_language_code\": \"en-US\",\n",
    "        }\n",
    "    )\n",
    "    return response.translations[0].translated_text"
   ]
  },
  {
   "cell_type": "code",
   "execution_count": 4,
   "id": "2ebe33df-555f-4e8b-b4e5-283a0bcfb039",
   "metadata": {},
   "outputs": [],
   "source": [
    "import csv\n",
    "import pandas as pd"
   ]
  },
  {
   "cell_type": "code",
   "execution_count": 17,
   "id": "367c6d1f-cbfb-4d5e-b0c1-b3ffbdadf470",
   "metadata": {},
   "outputs": [],
   "source": [
    "# 브랜드 별 파일 이름 리스트 \n",
    "file_names = [\n",
    "    \"[함께하닭] 헬스 스팀 소스 닭가슴살\",\n",
    "    \"함께하닭 닭가슴살 소시지 청양고추 100g\",\n",
    "    \"함께하닭 헬스 스팀 닭가슴살 카레맛 100g\",\n",
    "    \"함께하닭 헬스앤 돈다리살 100g\"\n",
    "]"
   ]
  },
  {
   "cell_type": "code",
   "execution_count": 18,
   "id": "4947cac0-722d-4626-abb4-563a37e2cff4",
   "metadata": {},
   "outputs": [],
   "source": [
    "# 리뷰를 번역하여 데이터프레임에 할당\n",
    "def translate_review(file):\n",
    "    file_path = f\"./total_preprocessed_review/HamkkeHadak/{file}\" + \".csv\"\n",
    "    df = pd.read_csv(file_path, encoding=\"utf-8\")\n",
    "    for i in range(len(df)):\n",
    "        review = df.review.iloc[i]\n",
    "        translated_review = get_translation(review)\n",
    "        df.loc[i, \"translated_review\"] = translated_review\n",
    "    print(\"translate review 끝\")\n",
    "    return df"
   ]
  },
  {
   "cell_type": "code",
   "execution_count": 19,
   "id": "3c3a0c38-0ebc-46f8-9db2-bc7c0aed118f",
   "metadata": {},
   "outputs": [],
   "source": [
    "# 파일 저장 함수\n",
    "def save_file(dataframe, file):\n",
    "    translated_df = dataframe\n",
    "    file_path = f\"./total_preprocessed_review/HamkkeHadak/{file}\" + \"_translated.csv\"\n",
    "    translated_df.to_csv(file_path, encoding=\"utf-8\")\n",
    "    print(\"file_path\", file_path)"
   ]
  },
  {
   "cell_type": "code",
   "execution_count": null,
   "id": "35637b94-548b-4731-9841-2b96f5927695",
   "metadata": {},
   "outputs": [
    {
     "name": "stderr",
     "output_type": "stream",
     "text": [
      "Translating files:  25%|████████████████▎                                                | 1/4 [00:15<00:46, 15.37s/it]"
     ]
    },
    {
     "name": "stdout",
     "output_type": "stream",
     "text": [
      "translate review 끝\n",
      "file_path ./total_preprocessed_review/HamkkeHadak/[함께하닭] 헬스 스팀 소스 닭가슴살_translated.csv\n"
     ]
    },
    {
     "name": "stderr",
     "output_type": "stream",
     "text": [
      "Translating files:  50%|████████████████████████████████▌                                | 2/4 [00:20<00:18,  9.10s/it]"
     ]
    },
    {
     "name": "stdout",
     "output_type": "stream",
     "text": [
      "translate review 끝\n",
      "file_path ./total_preprocessed_review/HamkkeHadak/함께하닭 닭가슴살 소시지 청양고추 100g_translated.csv\n"
     ]
    }
   ],
   "source": [
    "# 최종적으로 사용하는 번역 함수\n",
    "\n",
    "from tqdm import tqdm\n",
    "\n",
    "def translate_start():\n",
    "    # tqdm을 사용하여 enumerate를 감싸서 진행 상황을 모니터링\n",
    "    for i, file in enumerate(tqdm(file_names, desc=\"Translating files\")):\n",
    "        translated_df = translate_review(file)\n",
    "        save_file(translated_df, file)\n",
    "    print(\"translate start 끝\")\n",
    "\n",
    "translate_start()"
   ]
  }
 ],
 "metadata": {
  "kernelspec": {
   "display_name": "Python 3 (ipykernel)",
   "language": "python",
   "name": "python3"
  },
  "language_info": {
   "codemirror_mode": {
    "name": "ipython",
    "version": 3
   },
   "file_extension": ".py",
   "mimetype": "text/x-python",
   "name": "python",
   "nbconvert_exporter": "python",
   "pygments_lexer": "ipython3",
   "version": "3.11.9"
  }
 },
 "nbformat": 4,
 "nbformat_minor": 5
}
