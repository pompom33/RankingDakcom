{
 "cells": [
  {
   "cell_type": "markdown",
   "id": "eb678cfa-c0be-438e-b7d4-ec25cabb2107",
   "metadata": {},
   "source": [
    "# 제품별 키워드 딕셔너리 생성"
   ]
  },
  {
   "cell_type": "code",
   "execution_count": 3,
   "id": "36844a09-9b29-4d19-b444-af4c9c7f9f9e",
   "metadata": {},
   "outputs": [],
   "source": [
    "keyword_categories = {\n",
    "    'flavor_positive': ['savory', 'sweet', 'umami', 'nice taste', 'delicious', 'decent', 'taste good', 'tastes good', 'edible', 'heaven', 'tasty', 'good taste'],\n",
    "    'flavor_negative': ['not to my taste', 'gamey', 'fishy smell', 'tasteless', 'disgusting', 'bland', 'wasn’t quite to my taste', 'bitter', 'watery', 'too salty', 'so salty'],\n",
    "    'texture_positive': ['tender', 'juicy', 'moist', 'soft', 'chewy', 'not dry', 'isn’t dry', 'not gritty'],\n",
    "    'texture_negative': ['rubbery', 'so dry', 'tough', 'little dry', 'is too dry', 'bit dry'],\n",
    "    'ingredient': ['protein', 'nutritious', 'low in salt', 'not salty'],\n",
    "    'diet': ['diet', 'calorie', 'help'],\n",
    "    'exercise': ['muscle', 'work out', 'working out', 'workout', 'athletes', 'gain weight', 'gain some weight'],\n",
    "    'reorder': ['eat often', 'th purchase', 'th order', 'th reorder', 'again', 'reorder', 're-order', 'second', 'third', 'keep order', 'next time', 'repurchase', 'settl', 'always', 'regular', 'consistent', 'every time', 'stock up'],\n",
    "    'convenience': ['easy', 'convenient', 'simpl', 'snack', 'carry', 'substitute' , 'replacement', 'alternate', 'children', 'kids', 'ready to cook', 'quick meal', 'portable', 'individual', 'easy to cook', 'divided', 'air fryer'],\n",
    "    'delivery_positive': ['fast', 'meticulous', 'quick', 'well packaged', 'individually', 'well wrapped'],\n",
    "    'delivery_negative': ['slow', 'late', 'melt', 'break', 'soggy', 'delayed', 'burst', 'broke']\n",
    "}"
   ]
  },
  {
   "cell_type": "code",
   "execution_count": 13,
   "id": "aaa7701b-db00-4e83-8346-369790d32b32",
   "metadata": {},
   "outputs": [],
   "source": [
    "file_names = [\n",
    "     '[랭커] 닭가슴살 소시지',\n",
    "        '[랭커] 생 닭가슴살',\n",
    "        '[랭커] 소고기 스테이크',\n",
    "        '[랭커] 스팀 닭가슴살',\n",
    "        '랭커 그릴드 소스 닭가슴살 100g',\n",
    "        '랭커 닭가슴살 볶음밥 혼합 200g',\n",
    "        '랭커 닭가슴살 오븐구이 머스타드 150g',\n",
    "        '랭커 닭가슴살 큐브 100g',\n",
    "        '랭커 소고기볼 오리지널 100g',\n",
    "        '랭커 소프트 닭가슴살 마늘맛 100g',\n",
    "        '랭커 순살 닭다리 오븐구이 소이갈릭 100g',\n",
    "        '랭커 훈제 닭가슴살 100g',\n",
    "        '랭커 IQF 한입 닭가슴살 100g~1kg'\n",
    "    \n",
    "]"
   ]
  },
  {
   "cell_type": "code",
   "execution_count": 25,
   "id": "454a42e8-9180-4dec-a820-76d7b243e5e4",
   "metadata": {
    "scrolled": true
   },
   "outputs": [
    {
     "name": "stderr",
     "output_type": "stream",
     "text": [
      "Processing Files: 100%|██████████████████████████████████████████████████████████████████| 9/9 [00:19<00:00,  2.17s/it]\n"
     ]
    }
   ],
   "source": [
    "import pandas as pd\n",
    "from tqdm import tqdm\n",
    "\n",
    "# 키워드 카운팅 함수 (0인 값을 제외)\n",
    "def count_keywords(text, keywords):\n",
    "    counts = {keyword: text.lower().count(keyword) for keyword in keywords}\n",
    "    return {k: v for k, v in counts.items() if v > 0}\n",
    "    \n",
    "# 모든 결과를 저장할 빈 리스트를 초기화\n",
    "all_results = []\n",
    "\n",
    "# 파일 리스트에 tqdm 적용\n",
    "for file in tqdm(file_names, desc=\"Processing Files\"):\n",
    "    df = pd.read_csv(f\"./translated_review/Ranker/{file}.csv\", encoding='utf-8')\n",
    "    results = {'title': file}  # 'title' 열을 가장 먼저 추가\n",
    "    for category, keywords in keyword_categories.items():\n",
    "        df[category] = df['translated_review'].apply(lambda x: count_keywords(x, keywords))\n",
    "        results[category] = df[category].apply(pd.Series).sum().to_dict()\n",
    "    # 각 결과를 리스트에 추가\n",
    "    all_results.append(results)\n",
    "    \n",
    "# 모든 결과를 데이터프레임으로 변환\n",
    "final_df = pd.DataFrame(all_results)\n",
    "\n",
    "# 결과를 하나의 CSV 파일로 저장\n",
    "final_df.to_csv('./Keywords/[랭커]키워드요약.csv', encoding=\"utf-8\", index=False)"
   ]
  }
 ],
 "metadata": {
  "kernelspec": {
   "display_name": "Python 3 (ipykernel)",
   "language": "python",
   "name": "python3"
  },
  "language_info": {
   "codemirror_mode": {
    "name": "ipython",
    "version": 3
   },
   "file_extension": ".py",
   "mimetype": "text/x-python",
   "name": "python",
   "nbconvert_exporter": "python",
   "pygments_lexer": "ipython3",
   "version": "3.11.9"
  }
 },
 "nbformat": 4,
 "nbformat_minor": 5
}
